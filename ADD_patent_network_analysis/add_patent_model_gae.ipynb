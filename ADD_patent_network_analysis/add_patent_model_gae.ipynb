{
 "cells": [
  {
   "cell_type": "code",
   "execution_count": 25,
   "id": "c4a1206a-8523-4697-839a-e7c7aff74db2",
   "metadata": {},
   "outputs": [],
   "source": [
    "import numpy as np\n",
    "import pandas as pd\n",
    "import pickle as pkl\n",
    "import json\n",
    "import scipy.sparse as sp\n",
    "\n",
    "import networkx as nx\n",
    "from networkx.readwrite import json_graph\n",
    "\n",
    "from gae.model import *\n",
    "from gae.optimizer import *\n",
    "from gae.utils import *\n",
    "\n",
    "import torch\n",
    "from torch import optim\n",
    "import torch.nn.functional as F\n",
    "\n",
    "from datetime import datetime, timedelta\n",
    "import time\n",
    "import random\n",
    "from collections import OrderedDict\n",
    "import warnings; warnings.filterwarnings('ignore')"
   ]
  },
  {
   "cell_type": "code",
   "execution_count": 26,
   "id": "0430d850-1204-4082-b309-d68b6fc34c92",
   "metadata": {},
   "outputs": [],
   "source": [
    "graphs = ['original', 'train', 'test']\n",
    "obj = []\n",
    "for graph in graphs:\n",
    "    with open(graph +'.graph', 'r') as f:\n",
    "        data = json.load(f)\n",
    "    obj.append(data)\n",
    "orig_g = json_graph.node_link_graph(obj[0])\n",
    "train_g = json_graph.node_link_graph(obj[1])\n",
    "test_g = json_graph.node_link_graph(obj[2])"
   ]
  },
  {
   "cell_type": "code",
   "execution_count": 27,
   "id": "27eb370a-314b-4a4a-a781-005fbaa5c02c",
   "metadata": {},
   "outputs": [],
   "source": [
    "train_adj = nx.adjacency_matrix(train_g, nodelist=train_g.nodes())\n",
    "orig_adj = nx.adjacency_matrix(orig_g, nodelist=train_g.nodes())"
   ]
  },
  {
   "cell_type": "code",
   "execution_count": 28,
   "id": "7d0d961c-846e-4235-af54-ca9965f8dca1",
   "metadata": {},
   "outputs": [],
   "source": [
    "idx2nodes = {}\n",
    "nodes2idx = {}\n",
    "for idx, node in enumerate(train_g.nodes()):\n",
    "    idx2nodes[idx] = node\n",
    "    nodes2idx[node] = idx"
   ]
  },
  {
   "cell_type": "code",
   "execution_count": 29,
   "id": "70130b03-08ee-494e-a185-2d20d8bc46ed",
   "metadata": {},
   "outputs": [],
   "source": [
    "test_edges_name = []\n",
    "for i, j in test_g.edges():\n",
    "    if all(x in train_g.nodes() for x in [i, j]) and (i, j) not in train_g.edges() and (j, i) not in train_g.edges():\n",
    "        test_edges_name.append((i,j))"
   ]
  },
  {
   "cell_type": "code",
   "execution_count": 30,
   "id": "e684d4b1-43de-4e43-aa96-e97906759eba",
   "metadata": {},
   "outputs": [
    {
     "name": "stdout",
     "output_type": "stream",
     "text": [
      "177\n",
      "[('a61b', 'a61h'), ('a61p', 'c07k'), ('a62b', 'd01d'), ('a62b', 'd01f'), ('a62b', 'd03d')]\n"
     ]
    }
   ],
   "source": [
    "print(len(test_edges_name))\n",
    "print(test_edges_name[:5])"
   ]
  },
  {
   "cell_type": "code",
   "execution_count": 31,
   "id": "bf04b37c-e634-4950-8c31-d72b3b924976",
   "metadata": {},
   "outputs": [],
   "source": [
    "test_edges = []\n",
    "for i, j in test_edges_name:\n",
    "    test_edges.append((nodes2idx[i], nodes2idx[j]))"
   ]
  },
  {
   "cell_type": "code",
   "execution_count": 32,
   "id": "85fec190-e072-4d6d-b2bb-f8f892969b5d",
   "metadata": {},
   "outputs": [],
   "source": [
    "def ismember(idx_i, idx_j, edgelist):\n",
    "    if ((idx_i, idx_j) in edgelist) or ((idx_j, idx_i) in edgelist):\n",
    "        return True\n",
    "    else:\n",
    "        return False"
   ]
  },
  {
   "cell_type": "code",
   "execution_count": 33,
   "id": "66cdd502-62d9-4c63-acc3-b0026e92beb5",
   "metadata": {},
   "outputs": [
    {
     "data": {
      "text/plain": [
       "177"
      ]
     },
     "execution_count": 33,
     "metadata": {},
     "output_type": "execute_result"
    }
   ],
   "source": [
    "test_edges_false_name = []\n",
    "while len(test_edges_false_name) < len(test_edges):\n",
    "    idx_i, idx_j = random.sample(train_g.nodes(), 2)\n",
    "    if ismember(idx_i, idx_j,  orig_g.edges()):\n",
    "        continue\n",
    "    if ismember(idx_i, idx_j, test_edges_false_name):\n",
    "        continue\n",
    "    test_edges_false_name.append((idx_i, idx_j))\n",
    "len(test_edges_false_name)"
   ]
  },
  {
   "cell_type": "code",
   "execution_count": 34,
   "id": "c9232735-1d52-4b6e-ae7e-f9fafcff7467",
   "metadata": {},
   "outputs": [
    {
     "name": "stdout",
     "output_type": "stream",
     "text": [
      "177\n",
      "[('b65h', 'h05h'), ('f41g', 'a63f'), ('b23c', 'c02f'), ('c09k', 'd06c'), ('c03c', 'a62b')]\n"
     ]
    }
   ],
   "source": [
    "print(len(test_edges_false_name))\n",
    "print(test_edges_false_name[:5])"
   ]
  },
  {
   "cell_type": "code",
   "execution_count": 35,
   "id": "00681f16-a427-47ae-a4b0-2a7590ca799f",
   "metadata": {},
   "outputs": [],
   "source": [
    "test_edges_false = []\n",
    "for i, j in test_edges_false_name:\n",
    "    test_edges_false.append((nodes2idx[i], nodes2idx[j]))"
   ]
  },
  {
   "cell_type": "code",
   "execution_count": 36,
   "id": "207c1659-713b-4879-b71a-41de99403676",
   "metadata": {},
   "outputs": [
    {
     "data": {
      "text/plain": [
       "[(96, 320), (219, 18), (42, 113), (133, 156), (115, 14)]"
      ]
     },
     "execution_count": 36,
     "metadata": {},
     "output_type": "execute_result"
    }
   ],
   "source": [
    "test_edges_false[:5]"
   ]
  },
  {
   "cell_type": "markdown",
   "id": "c3526ce3-3b58-4e47-8068-0fbe9f9f860d",
   "metadata": {},
   "source": [
    "### Model"
   ]
  },
  {
   "cell_type": "code",
   "execution_count": 37,
   "id": "b4ca12a6-025d-488f-8aff-3d472b5672a1",
   "metadata": {},
   "outputs": [],
   "source": [
    "train_adj_norm = preprocess_graph(train_adj)"
   ]
  },
  {
   "cell_type": "code",
   "execution_count": 38,
   "id": "2f7a50b3-ccc6-498b-9c86-816397bf03ef",
   "metadata": {},
   "outputs": [],
   "source": [
    "pos_weight = torch.Tensor([float(train_adj.shape[0] * train_adj.shape[0] - train_adj.sum()) / train_adj.sum()])\n",
    "norm = train_adj.shape[0] * train_adj.shape[0] / float((train_adj.shape[0] * train_adj.shape[0] - train_adj.sum()) * 2)"
   ]
  },
  {
   "cell_type": "code",
   "execution_count": 39,
   "id": "4b4a179c-af13-4511-94eb-752ac191b529",
   "metadata": {},
   "outputs": [],
   "source": [
    "device = torch.device('cpu')"
   ]
  },
  {
   "cell_type": "code",
   "execution_count": 40,
   "id": "925b4082-58e4-4dc7-9418-d66139a17798",
   "metadata": {},
   "outputs": [],
   "source": [
    "adj_label = train_adj + sp.eye(train_adj.shape[0])\n",
    "adj_label = torch.FloatTensor(adj_label.toarray())"
   ]
  },
  {
   "cell_type": "code",
   "execution_count": 41,
   "id": "18e1d28b-8e47-4a6c-aa28-fbd21af421dd",
   "metadata": {},
   "outputs": [],
   "source": [
    "features = sp.identity(train_adj.shape[0])\n",
    "features = torch.FloatTensor(np.array(features.todense()))\n",
    "n_nodes, feat_dim = features.shape"
   ]
  },
  {
   "cell_type": "code",
   "execution_count": 42,
   "id": "a0c3c51e-8681-4cd8-9f92-eeadf1a57341",
   "metadata": {},
   "outputs": [],
   "source": [
    "train_adj_norm, features, adj_label, pos_weight = train_adj_norm.to(device), features.to(device), adj_label.to(device), pos_weight.to(device)"
   ]
  },
  {
   "cell_type": "code",
   "execution_count": 150,
   "id": "dddd1373-dd60-43cf-a30d-f5ceb34559c4",
   "metadata": {},
   "outputs": [],
   "source": [
    "hidden1 = 16\n",
    "hidden2 = 8\n",
    "lr = 0.0001\n",
    "dropout = 0.\n",
    "epochs = 200"
   ]
  },
  {
   "cell_type": "code",
   "execution_count": 151,
   "id": "f26a2e2e-aefd-4985-a794-4af203eef1fb",
   "metadata": {},
   "outputs": [],
   "source": [
    "model_name = 'GAE'"
   ]
  },
  {
   "cell_type": "code",
   "execution_count": 152,
   "id": "1e8fb907-0140-4d9f-aa7d-101340e682b9",
   "metadata": {},
   "outputs": [],
   "source": [
    "n_iter = 10"
   ]
  },
  {
   "cell_type": "code",
   "execution_count": 153,
   "id": "02eb1457-95f5-4df4-962d-c27638b8856c",
   "metadata": {},
   "outputs": [
    {
     "name": "stdout",
     "output_type": "stream",
     "text": [
      "Expriments 1 result: Test_ROC: 83.7818, Test_AP: 82.6851\n",
      "Expriments 2 result: Test_ROC: 81.4421, Test_AP: 83.6912\n",
      "Expriments 3 result: Test_ROC: 82.0326, Test_AP: 82.8310\n",
      "Expriments 4 result: Test_ROC: 80.1207, Test_AP: 81.3043\n",
      "Expriments 5 result: Test_ROC: 82.8019, Test_AP: 83.5342\n",
      "Expriments 6 result: Test_ROC: 78.2885, Test_AP: 79.9596\n",
      "Expriments 7 result: Test_ROC: 80.9123, Test_AP: 81.5603\n",
      "Expriments 8 result: Test_ROC: 80.5165, Test_AP: 81.1677\n",
      "Expriments 9 result: Test_ROC: 81.6943, Test_AP: 83.1263\n",
      "Expriments 10 result: Test_ROC: 83.5201, Test_AP: 83.7212\n",
      "\n",
      "Average ROC: 81.51 ± 1.58 Average AP: 82.36 ± 1.22\n"
     ]
    }
   ],
   "source": [
    "roc_results = []\n",
    "ap_results = []\n",
    "for i in range(n_iter):\n",
    "    if model_name == 'GAE':\n",
    "        model = GCN_AE(feat_dim, hidden1, hidden2, dropout)\n",
    "    elif model_name == 'VGAE':\n",
    "        model = GCN_VAE(feat_dim, hidden1, hidden2, dropout)\n",
    "    model= model.to(device)\n",
    "    optimizer = optim.Adam(model.parameters(), lr=lr)\n",
    "    hidden_emb = None\n",
    "    for epoch in range(epochs):\n",
    "        model.train()\n",
    "        optimizer.zero_grad()\n",
    "    \n",
    "        if model_name == 'GAE':\n",
    "            recovered = model(features, train_adj_norm)\n",
    "            loss = loss_function_gae(preds=recovered, labels=adj_label, norm=norm, pos_weight=pos_weight)\n",
    "        else:\n",
    "            recovered, mu, logvar = model(features, train_adj_norm)\n",
    "            loss = loss_function_vgae(preds=recovered, labels=adj_label, mu=mu, logvar=logvar, n_nodes=n_nodes, norm=norm, pos_weight=pos_weight)\n",
    "\n",
    "        loss.backward()\n",
    "        cur_loss = loss.item()\n",
    "        optimizer.step()\n",
    "\n",
    "        hidden_emb = recovered.data.cpu().numpy()\n",
    "#     roc_curr, ap_curr = patent_roc_score(hidden_emb, G1_adj, val_edges, val_edges_false)\n",
    "#         if (epoch % 50 == 0) or (epoch==199):\n",
    "#             print('Epoch: {}/{}'.format(epoch+1, epochs), end='\\n', flush=True)\n",
    "    roc_score, ap_score, recon_adj = roc_ap_score(hidden_emb, orig_adj, test_edges, test_edges_false)\n",
    "    print('Expriments {} result: Test_ROC: {:.4f}, Test_AP: {:.4f}'.format(i+1, roc_score*100, ap_score*100), end='\\n')\n",
    "    roc_results.append(roc_score)\n",
    "    ap_results.append(ap_score)\n",
    "print('\\nAverage ROC: {} ± {} Average AP: {} ± {}'.format(np.round(np.mean(roc_results)*100, 2), np.round(np.std(roc_results)*100, 2), np.round(np.mean(ap_results)*100, 2), np.round(np.std(ap_results)*100, 2) ))"
   ]
  },
  {
   "cell_type": "code",
   "execution_count": null,
   "id": "1ff1f155-803a-4425-9aa9-19b693179af9",
   "metadata": {},
   "outputs": [],
   "source": []
  }
 ],
 "metadata": {
  "kernelspec": {
   "display_name": "Python 3",
   "language": "python",
   "name": "python3"
  },
  "language_info": {
   "codemirror_mode": {
    "name": "ipython",
    "version": 3
   },
   "file_extension": ".py",
   "mimetype": "text/x-python",
   "name": "python",
   "nbconvert_exporter": "python",
   "pygments_lexer": "ipython3",
   "version": "3.8.3"
  }
 },
 "nbformat": 4,
 "nbformat_minor": 5
}
