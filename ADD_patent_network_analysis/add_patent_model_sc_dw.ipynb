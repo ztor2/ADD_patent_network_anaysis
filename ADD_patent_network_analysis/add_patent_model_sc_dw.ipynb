{
 "cells": [
  {
   "cell_type": "code",
   "execution_count": 15,
   "id": "c4a1206a-8523-4697-839a-e7c7aff74db2",
   "metadata": {},
   "outputs": [],
   "source": [
    "import numpy as np\n",
    "import pandas as pd\n",
    "import pickle as pkl\n",
    "import json\n",
    "import scipy.sparse as sp\n",
    "\n",
    "import networkx as nx\n",
    "from networkx.readwrite import json_graph\n",
    "\n",
    "from sc_dw.utils import *\n",
    "from sklearn.manifold import spectral_embedding\n",
    "from node2vec import Node2Vec\n",
    "\n",
    "import torch\n",
    "from torch import optim\n",
    "import torch.nn.functional as F\n",
    "\n",
    "from datetime import datetime, timedelta\n",
    "import time\n",
    "import random\n",
    "from collections import OrderedDict\n",
    "import warnings; warnings.filterwarnings('ignore')"
   ]
  },
  {
   "cell_type": "code",
   "execution_count": 16,
   "id": "0430d850-1204-4082-b309-d68b6fc34c92",
   "metadata": {},
   "outputs": [],
   "source": [
    "graphs = ['original', 'train', 'test']\n",
    "obj = []\n",
    "for graph in graphs:\n",
    "    with open(graph +'.graph', 'r') as f:\n",
    "        data = json.load(f)\n",
    "    obj.append(data)\n",
    "orig_g = json_graph.node_link_graph(obj[0])\n",
    "train_g = json_graph.node_link_graph(obj[1])\n",
    "test_g = json_graph.node_link_graph(obj[2])"
   ]
  },
  {
   "cell_type": "code",
   "execution_count": 17,
   "id": "27eb370a-314b-4a4a-a781-005fbaa5c02c",
   "metadata": {},
   "outputs": [],
   "source": [
    "train_adj = nx.adjacency_matrix(train_g, nodelist=train_g.nodes())"
   ]
  },
  {
   "cell_type": "code",
   "execution_count": 18,
   "id": "06c60797-690a-4766-88f3-4ab24c6dead8",
   "metadata": {},
   "outputs": [],
   "source": [
    "orig_adj = nx.adjacency_matrix(orig_g, nodelist=train_g.nodes())"
   ]
  },
  {
   "cell_type": "code",
   "execution_count": 19,
   "id": "7d0d961c-846e-4235-af54-ca9965f8dca1",
   "metadata": {},
   "outputs": [],
   "source": [
    "idx2nodes = {}\n",
    "nodes2idx = {}\n",
    "for idx, node in enumerate(train_g.nodes()):\n",
    "    idx2nodes[idx] = node\n",
    "    nodes2idx[node] = idx"
   ]
  },
  {
   "cell_type": "code",
   "execution_count": 20,
   "id": "70130b03-08ee-494e-a185-2d20d8bc46ed",
   "metadata": {},
   "outputs": [],
   "source": [
    "# test_edges_name = []\n",
    "# for i, j in test_g.edges():\n",
    "#     if all(x in train_g.nodes() for x in [i, j]):\n",
    "#         test_edges_name.append((i,j))"
   ]
  },
  {
   "cell_type": "code",
   "execution_count": 21,
   "id": "7a9abb6d-128c-46d7-8d7d-853dd2d94bb0",
   "metadata": {},
   "outputs": [],
   "source": [
    "test_edges_name = []\n",
    "for i, j in test_g.edges():\n",
    "    if all(x in train_g.nodes() for x in [i, j]) and (i, j) not in train_g.edges() and (j, i) not in train_g.edges():\n",
    "        test_edges_name.append((i,j))"
   ]
  },
  {
   "cell_type": "code",
   "execution_count": 22,
   "id": "e684d4b1-43de-4e43-aa96-e97906759eba",
   "metadata": {},
   "outputs": [
    {
     "name": "stdout",
     "output_type": "stream",
     "text": [
      "177\n",
      "[('a61b', 'a61h'), ('a61p', 'c07k'), ('a62b', 'd01d'), ('a62b', 'd01f'), ('a62b', 'd03d')]\n"
     ]
    }
   ],
   "source": [
    "print(len(test_edges_name))\n",
    "print(test_edges_name[:5])"
   ]
  },
  {
   "cell_type": "code",
   "execution_count": 23,
   "id": "bf04b37c-e634-4950-8c31-d72b3b924976",
   "metadata": {},
   "outputs": [],
   "source": [
    "test_edges = []\n",
    "for i, j in test_edges_name:\n",
    "    test_edges.append((nodes2idx[i], nodes2idx[j]))"
   ]
  },
  {
   "cell_type": "code",
   "execution_count": 24,
   "id": "85fec190-e072-4d6d-b2bb-f8f892969b5d",
   "metadata": {},
   "outputs": [],
   "source": [
    "def ismember(idx_i, idx_j, edgelist):\n",
    "    if ((idx_i, idx_j) in edgelist) or ((idx_j, idx_i) in edgelist):\n",
    "        return True\n",
    "    else:\n",
    "        return False"
   ]
  },
  {
   "cell_type": "code",
   "execution_count": 25,
   "id": "66cdd502-62d9-4c63-acc3-b0026e92beb5",
   "metadata": {},
   "outputs": [
    {
     "data": {
      "text/plain": [
       "177"
      ]
     },
     "execution_count": 25,
     "metadata": {},
     "output_type": "execute_result"
    }
   ],
   "source": [
    "test_edges_false_name = []\n",
    "while len(test_edges_false_name) < len(test_edges):\n",
    "    idx_i, idx_j = random.sample(train_g.nodes(), 2)\n",
    "    if ismember(idx_i, idx_j,  orig_g.edges()):\n",
    "        continue\n",
    "    if ismember(idx_i, idx_j, test_edges_false_name):\n",
    "        continue\n",
    "    test_edges_false_name.append((idx_i, idx_j))\n",
    "len(test_edges_false_name)"
   ]
  },
  {
   "cell_type": "code",
   "execution_count": 26,
   "id": "c9232735-1d52-4b6e-ae7e-f9fafcff7467",
   "metadata": {},
   "outputs": [
    {
     "name": "stdout",
     "output_type": "stream",
     "text": [
      "177\n",
      "[('c12r', 'h03k'), ('e04g', 'b03d'), ('c03b', 'h02j'), ('f03h', 'b08b'), ('g03h', 'b05b')]\n"
     ]
    }
   ],
   "source": [
    "print(len(test_edges_false_name))\n",
    "print(test_edges_false_name[:5])"
   ]
  },
  {
   "cell_type": "code",
   "execution_count": 27,
   "id": "00681f16-a427-47ae-a4b0-2a7590ca799f",
   "metadata": {},
   "outputs": [],
   "source": [
    "test_edges_false = []\n",
    "for i, j in test_edges_false_name:\n",
    "    test_edges_false.append((nodes2idx[i], nodes2idx[j]))"
   ]
  },
  {
   "cell_type": "code",
   "execution_count": 28,
   "id": "207c1659-713b-4879-b71a-41de99403676",
   "metadata": {},
   "outputs": [
    {
     "data": {
      "text/plain": [
       "[(140, 304), (161, 27), (114, 293), (182, 33), (247, 29)]"
      ]
     },
     "execution_count": 28,
     "metadata": {},
     "output_type": "execute_result"
    }
   ],
   "source": [
    "test_edges_false[:5]"
   ]
  },
  {
   "cell_type": "markdown",
   "id": "c3526ce3-3b58-4e47-8068-0fbe9f9f860d",
   "metadata": {},
   "source": [
    "### Model"
   ]
  },
  {
   "cell_type": "code",
   "execution_count": 43,
   "id": "b1e900f8-a872-4081-a0b0-fbc7593c9430",
   "metadata": {},
   "outputs": [],
   "source": [
    "n_iter = 10\n",
    "dim = 128"
   ]
  },
  {
   "cell_type": "code",
   "execution_count": 44,
   "id": "981b9ed6-ba4b-483c-9272-1146f4d13a6a",
   "metadata": {},
   "outputs": [
    {
     "name": "stdout",
     "output_type": "stream",
     "text": [
      "Experiment 1 result - ROC(AUC) score: 0.3711, AP score: 0.4102\n",
      "Experiment 2 result - ROC(AUC) score: 0.3998, AP score: 0.4282\n",
      "Experiment 3 result - ROC(AUC) score: 0.3999, AP score: 0.4295\n",
      "Experiment 4 result - ROC(AUC) score: 0.378, AP score: 0.4148\n",
      "Experiment 5 result - ROC(AUC) score: 0.3603, AP score: 0.404\n",
      "Experiment 6 result - ROC(AUC) score: 0.39, AP score: 0.4265\n",
      "Experiment 7 result - ROC(AUC) score: 0.378, AP score: 0.4148\n",
      "Experiment 8 result - ROC(AUC) score: 0.378, AP score: 0.4148\n",
      "Experiment 9 result - ROC(AUC) score: 0.3949, AP score: 0.4257\n",
      "Experiment 10 result - ROC(AUC) score: 0.3849, AP score: 0.4171\n"
     ]
    }
   ],
   "source": [
    "sc_AUC_scores = []\n",
    "sc_AP_scores = []\n",
    "for i in range(n_iter):\n",
    "    \n",
    "    random_state = random.sample(range(0, 50), 1)[0]\n",
    "    spectral_emb = spectral_embedding(train_adj, n_components=dim, random_state=random_state)\n",
    "    sc_score_matrix = np.dot(spectral_emb, spectral_emb.T)\n",
    "    sc_test_roc, sc_test_ap = get_roc_score(test_edges, test_edges_false, sc_score_matrix, apply_sigmoid=True)\n",
    "    \n",
    "    sc_AUC_scores.append(sc_test_roc)\n",
    "    sc_AP_scores.append(sc_test_ap)\n",
    "    \n",
    "    print('Experiment {} result - ROC(AUC) score: {}, AP score: {}'.format(i+1, np.round(sc_test_roc, 4), np.round(sc_test_ap, 4)), end='\\n')"
   ]
  },
  {
   "cell_type": "code",
   "execution_count": 42,
   "id": "02eb1457-95f5-4df4-962d-c27638b8856c",
   "metadata": {},
   "outputs": [
    {
     "name": "stdout",
     "output_type": "stream",
     "text": [
      "SC_AUC mean: 48.31 ± 0.74\n",
      "SC_AP mean: 50.05 ± 0.74\n"
     ]
    }
   ],
   "source": [
    "print('SC_AUC mean:', '{:.2f} ± {:.2f}'.format( np.round(np.mean(sc_AUC_scores)*100, 2), np.round(np.std(sc_AP_scores)*100, 2) ))\n",
    "print('SC_AP mean:', '{:.2f} ± {:.2f}'.format( np.round(np.mean(sc_AP_scores)*100, 2), np.round(np.std(sc_AP_scores)*100, 2) ))"
   ]
  },
  {
   "cell_type": "code",
   "execution_count": 52,
   "id": "f514803d-633e-49c4-8064-59470d2b9ccd",
   "metadata": {},
   "outputs": [],
   "source": [
    "dim = 128\n",
    "walk_len = 16\n",
    "num_walk = 16\n",
    "window = 8"
   ]
  },
  {
   "cell_type": "code",
   "execution_count": 53,
   "id": "b9a1a639-421d-4d9c-9d88-7c6d4b58707a",
   "metadata": {},
   "outputs": [
    {
     "data": {
      "application/vnd.jupyter.widget-view+json": {
       "model_id": "f8438f335b63454192b3e802be1ed079",
       "version_major": 2,
       "version_minor": 0
      },
      "text/plain": [
       "Computing transition probabilities:   0%|          | 0/322 [00:00<?, ?it/s]"
      ]
     },
     "metadata": {},
     "output_type": "display_data"
    },
    {
     "name": "stderr",
     "output_type": "stream",
     "text": [
      "Generating walks (CPU: 1): 100%|███████████████████████████████████████████████████████| 16/16 [00:02<00:00,  6.16it/s]\n"
     ]
    },
    {
     "name": "stdout",
     "output_type": "stream",
     "text": [
      "Experiment 1 result - ROC(AUC) score: 0.6642, AP score: 0.5996\n"
     ]
    },
    {
     "data": {
      "application/vnd.jupyter.widget-view+json": {
       "model_id": "7d8ac2b1275e4a83aa3a6d7d9e35d7d5",
       "version_major": 2,
       "version_minor": 0
      },
      "text/plain": [
       "Computing transition probabilities:   0%|          | 0/322 [00:00<?, ?it/s]"
      ]
     },
     "metadata": {},
     "output_type": "display_data"
    },
    {
     "name": "stderr",
     "output_type": "stream",
     "text": [
      "Generating walks (CPU: 1): 100%|███████████████████████████████████████████████████████| 16/16 [00:02<00:00,  6.04it/s]\n"
     ]
    },
    {
     "name": "stdout",
     "output_type": "stream",
     "text": [
      "Experiment 2 result - ROC(AUC) score: 0.6455, AP score: 0.5914\n"
     ]
    },
    {
     "data": {
      "application/vnd.jupyter.widget-view+json": {
       "model_id": "5b843db792c74652a0d16ed28121714b",
       "version_major": 2,
       "version_minor": 0
      },
      "text/plain": [
       "Computing transition probabilities:   0%|          | 0/322 [00:00<?, ?it/s]"
      ]
     },
     "metadata": {},
     "output_type": "display_data"
    },
    {
     "name": "stderr",
     "output_type": "stream",
     "text": [
      "Generating walks (CPU: 1): 100%|███████████████████████████████████████████████████████| 16/16 [00:03<00:00,  4.98it/s]\n"
     ]
    },
    {
     "name": "stdout",
     "output_type": "stream",
     "text": [
      "Experiment 3 result - ROC(AUC) score: 0.6317, AP score: 0.5758\n"
     ]
    },
    {
     "data": {
      "application/vnd.jupyter.widget-view+json": {
       "model_id": "91beef1880354fc7a009958be7026b73",
       "version_major": 2,
       "version_minor": 0
      },
      "text/plain": [
       "Computing transition probabilities:   0%|          | 0/322 [00:00<?, ?it/s]"
      ]
     },
     "metadata": {},
     "output_type": "display_data"
    },
    {
     "name": "stderr",
     "output_type": "stream",
     "text": [
      "Generating walks (CPU: 1): 100%|███████████████████████████████████████████████████████| 16/16 [00:02<00:00,  5.62it/s]\n"
     ]
    },
    {
     "name": "stdout",
     "output_type": "stream",
     "text": [
      "Experiment 4 result - ROC(AUC) score: 0.6587, AP score: 0.5997\n"
     ]
    },
    {
     "data": {
      "application/vnd.jupyter.widget-view+json": {
       "model_id": "b1d9292ae4cd41d89921bf8803c21686",
       "version_major": 2,
       "version_minor": 0
      },
      "text/plain": [
       "Computing transition probabilities:   0%|          | 0/322 [00:00<?, ?it/s]"
      ]
     },
     "metadata": {},
     "output_type": "display_data"
    },
    {
     "name": "stderr",
     "output_type": "stream",
     "text": [
      "Generating walks (CPU: 1): 100%|███████████████████████████████████████████████████████| 16/16 [00:02<00:00,  6.10it/s]\n"
     ]
    },
    {
     "name": "stdout",
     "output_type": "stream",
     "text": [
      "Experiment 5 result - ROC(AUC) score: 0.6512, AP score: 0.5822\n"
     ]
    },
    {
     "data": {
      "application/vnd.jupyter.widget-view+json": {
       "model_id": "c9f228c1baa14befa16bdd9a7251f9d4",
       "version_major": 2,
       "version_minor": 0
      },
      "text/plain": [
       "Computing transition probabilities:   0%|          | 0/322 [00:00<?, ?it/s]"
      ]
     },
     "metadata": {},
     "output_type": "display_data"
    },
    {
     "name": "stderr",
     "output_type": "stream",
     "text": [
      "Generating walks (CPU: 1): 100%|███████████████████████████████████████████████████████| 16/16 [00:02<00:00,  6.09it/s]\n"
     ]
    },
    {
     "name": "stdout",
     "output_type": "stream",
     "text": [
      "Experiment 6 result - ROC(AUC) score: 0.6547, AP score: 0.5962\n"
     ]
    },
    {
     "data": {
      "application/vnd.jupyter.widget-view+json": {
       "model_id": "0b2b8f7dbdd943c99c14f8688b474c0d",
       "version_major": 2,
       "version_minor": 0
      },
      "text/plain": [
       "Computing transition probabilities:   0%|          | 0/322 [00:00<?, ?it/s]"
      ]
     },
     "metadata": {},
     "output_type": "display_data"
    },
    {
     "name": "stderr",
     "output_type": "stream",
     "text": [
      "Generating walks (CPU: 1): 100%|███████████████████████████████████████████████████████| 16/16 [00:02<00:00,  6.34it/s]\n"
     ]
    },
    {
     "name": "stdout",
     "output_type": "stream",
     "text": [
      "Experiment 7 result - ROC(AUC) score: 0.6476, AP score: 0.5889\n"
     ]
    },
    {
     "data": {
      "application/vnd.jupyter.widget-view+json": {
       "model_id": "26c874d0b17943a8b7d9de27257830ad",
       "version_major": 2,
       "version_minor": 0
      },
      "text/plain": [
       "Computing transition probabilities:   0%|          | 0/322 [00:00<?, ?it/s]"
      ]
     },
     "metadata": {},
     "output_type": "display_data"
    },
    {
     "name": "stderr",
     "output_type": "stream",
     "text": [
      "Generating walks (CPU: 1): 100%|███████████████████████████████████████████████████████| 16/16 [00:02<00:00,  6.36it/s]\n"
     ]
    },
    {
     "name": "stdout",
     "output_type": "stream",
     "text": [
      "Experiment 8 result - ROC(AUC) score: 0.6485, AP score: 0.5935\n"
     ]
    },
    {
     "data": {
      "application/vnd.jupyter.widget-view+json": {
       "model_id": "a45a51d97db74b52a5c0d14d4f69e231",
       "version_major": 2,
       "version_minor": 0
      },
      "text/plain": [
       "Computing transition probabilities:   0%|          | 0/322 [00:00<?, ?it/s]"
      ]
     },
     "metadata": {},
     "output_type": "display_data"
    },
    {
     "name": "stderr",
     "output_type": "stream",
     "text": [
      "Generating walks (CPU: 1): 100%|███████████████████████████████████████████████████████| 16/16 [00:02<00:00,  6.42it/s]\n"
     ]
    },
    {
     "name": "stdout",
     "output_type": "stream",
     "text": [
      "Experiment 9 result - ROC(AUC) score: 0.6505, AP score: 0.5857\n"
     ]
    },
    {
     "data": {
      "application/vnd.jupyter.widget-view+json": {
       "model_id": "c0ed1162898c45e0b13179dd858fe365",
       "version_major": 2,
       "version_minor": 0
      },
      "text/plain": [
       "Computing transition probabilities:   0%|          | 0/322 [00:00<?, ?it/s]"
      ]
     },
     "metadata": {},
     "output_type": "display_data"
    },
    {
     "name": "stderr",
     "output_type": "stream",
     "text": [
      "Generating walks (CPU: 1): 100%|███████████████████████████████████████████████████████| 16/16 [00:02<00:00,  6.17it/s]\n"
     ]
    },
    {
     "name": "stdout",
     "output_type": "stream",
     "text": [
      "Experiment 10 result - ROC(AUC) score: 0.6606, AP score: 0.6003\n"
     ]
    }
   ],
   "source": [
    "dw_AUC_scores = []\n",
    "dw_AP_scores = []\n",
    "for i in range(n_iter):\n",
    "    \n",
    "    G_train = nx.from_scipy_sparse_matrix(train_adj)\n",
    "    \n",
    "    model_train = Node2Vec(G_train, dimensions=dim, walk_length=walk_len, num_walks=num_walk)\n",
    "    n2v_train = model_train.fit(window=window, min_count=1)\n",
    "    edge_emb = n2v_train.wv\n",
    "    \n",
    "    emb_list = []\n",
    "    for node_index in range(0, train_adj.shape[0]):\n",
    "        node_emb = edge_emb[str(node_index)]\n",
    "        emb_list.append(node_emb)\n",
    "    emb_matrix = np.vstack(emb_list)\n",
    "\n",
    "    n2v_score_matrix = np.dot(emb_matrix, emb_matrix.T)\n",
    "    n2v_test_roc, n2v_test_ap = get_roc_score(test_edges, test_edges_false, n2v_score_matrix, apply_sigmoid=True)\n",
    "    \n",
    "    dw_AUC_scores.append(n2v_test_roc)\n",
    "    dw_AP_scores.append(n2v_test_ap)\n",
    "    \n",
    "    print('Experiment {} result - ROC(AUC) score: {}, AP score: {}'.format(i+1, np.round(n2v_test_roc, 4), np.round(n2v_test_ap, 4)), end='\\n')"
   ]
  },
  {
   "cell_type": "code",
   "execution_count": 54,
   "id": "276dcb91-36a9-4d6b-81e8-f699def5bb09",
   "metadata": {},
   "outputs": [
    {
     "name": "stdout",
     "output_type": "stream",
     "text": [
      "DW_AUC mean: 65.13 ± 0.87\n",
      "DW_AP mean: 59.13 ± 0.78\n"
     ]
    }
   ],
   "source": [
    "print('DW_AUC mean:', '{:.2f} ± {:.2f}'.format( np.round(np.mean(dw_AUC_scores)*100, 2), np.round(np.std(dw_AUC_scores)*100, 2) ))\n",
    "print('DW_AP mean:', '{:.2f} ± {:.2f}'.format( np.round(np.mean(dw_AP_scores)*100, 2), np.round(np.std(dw_AP_scores)*100, 2) ))"
   ]
  },
  {
   "cell_type": "code",
   "execution_count": null,
   "id": "3929148e-c89c-488c-ad92-d0a70190eb2e",
   "metadata": {},
   "outputs": [],
   "source": []
  },
  {
   "cell_type": "code",
   "execution_count": null,
   "id": "7524df65-05d5-4d7a-99bf-be4942922fd0",
   "metadata": {},
   "outputs": [],
   "source": []
  }
 ],
 "metadata": {
  "kernelspec": {
   "display_name": "Python 3",
   "language": "python",
   "name": "python3"
  },
  "language_info": {
   "codemirror_mode": {
    "name": "ipython",
    "version": 3
   },
   "file_extension": ".py",
   "mimetype": "text/x-python",
   "name": "python",
   "nbconvert_exporter": "python",
   "pygments_lexer": "ipython3",
   "version": "3.8.3"
  }
 },
 "nbformat": 4,
 "nbformat_minor": 5
}
